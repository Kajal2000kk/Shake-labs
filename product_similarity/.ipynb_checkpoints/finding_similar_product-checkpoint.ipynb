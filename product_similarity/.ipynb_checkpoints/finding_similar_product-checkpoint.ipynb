{
 "cells": [
  {
   "cell_type": "code",
   "execution_count": 47,
   "metadata": {},
   "outputs": [],
   "source": [
    "#importing libraries\n",
    "import pandas as pd\n",
    "import numpy as np\n",
    "import nltk\n",
    "from nltk.stem import PorterStemmer\n",
    "import re\n",
    "from sklearn.feature_extraction.text import TfidfVectorizer\n",
    "from sklearn.metrics.pairwise import cosine_similarity\n",
    "import pickle"
   ]
  },
  {
   "cell_type": "code",
   "execution_count": 2,
   "metadata": {},
   "outputs": [],
   "source": [
    "df_a = pd.read_csv('./data/amz_com-ecommerce_sample.csv', encoding= 'unicode_escape')"
   ]
  },
  {
   "cell_type": "code",
   "execution_count": 3,
   "metadata": {},
   "outputs": [],
   "source": [
    "df_f = pd.read_csv('./data/flipkart_com-ecommerce_sample.csv', encoding= 'unicode_escape')"
   ]
  },
  {
   "cell_type": "code",
   "execution_count": 4,
   "metadata": {},
   "outputs": [
    {
     "data": {
      "text/html": [
       "<div>\n",
       "<style scoped>\n",
       "    .dataframe tbody tr th:only-of-type {\n",
       "        vertical-align: middle;\n",
       "    }\n",
       "\n",
       "    .dataframe tbody tr th {\n",
       "        vertical-align: top;\n",
       "    }\n",
       "\n",
       "    .dataframe thead th {\n",
       "        text-align: right;\n",
       "    }\n",
       "</style>\n",
       "<table border=\"1\" class=\"dataframe\">\n",
       "  <thead>\n",
       "    <tr style=\"text-align: right;\">\n",
       "      <th></th>\n",
       "      <th>uniq_id</th>\n",
       "      <th>crawl_timestamp</th>\n",
       "      <th>product_url</th>\n",
       "      <th>product_name</th>\n",
       "      <th>product_category_tree</th>\n",
       "      <th>pid</th>\n",
       "      <th>retail_price</th>\n",
       "      <th>discounted_price</th>\n",
       "      <th>image</th>\n",
       "      <th>is_FK_Advantage_product</th>\n",
       "      <th>description</th>\n",
       "      <th>product_rating</th>\n",
       "      <th>overall_rating</th>\n",
       "      <th>brand</th>\n",
       "      <th>product_specifications</th>\n",
       "    </tr>\n",
       "  </thead>\n",
       "  <tbody>\n",
       "    <tr>\n",
       "      <th>0</th>\n",
       "      <td>c2d766ca982eca8304150849735ffef9</td>\n",
       "      <td>2016-03-25 22:59:23 +0000</td>\n",
       "      <td>http://www.flipkart.com/alisha-solid-women-s-c...</td>\n",
       "      <td>Alisha Solid Women's Cycling Shorts</td>\n",
       "      <td>[\"Clothing &gt;&gt; Women's Clothing &gt;&gt; Lingerie, Sl...</td>\n",
       "      <td>SRTEH2FF9KEDEFGF</td>\n",
       "      <td>982</td>\n",
       "      <td>438</td>\n",
       "      <td>[\"http://img5a.flixcart.com/image/short/u/4/a/...</td>\n",
       "      <td>False</td>\n",
       "      <td>Key Features of Alisha Solid Women's Cycling S...</td>\n",
       "      <td>No rating available</td>\n",
       "      <td>No rating available</td>\n",
       "      <td>Alisha</td>\n",
       "      <td>{\"product_specification\"=&gt;[{\"key\"=&gt;\"Number of ...</td>\n",
       "    </tr>\n",
       "    <tr>\n",
       "      <th>1</th>\n",
       "      <td>7f7036a6d550aaa89d34c77bd39a5e48</td>\n",
       "      <td>2016-03-25 22:59:23 +0000</td>\n",
       "      <td>http://www.flipkart.com/fabhomedecor-fabric-do...</td>\n",
       "      <td>FabHomeDecor Fabric Double Sofa Bed</td>\n",
       "      <td>[\"Furniture &gt;&gt; Living Room Furniture &gt;&gt; Sofa B...</td>\n",
       "      <td>SBEEH3QGU7MFYJFY</td>\n",
       "      <td>32143</td>\n",
       "      <td>29121</td>\n",
       "      <td>[\"http://img6a.flixcart.com/image/sofa-bed/j/f...</td>\n",
       "      <td>False</td>\n",
       "      <td>FabHomeDecor Fabric Double Sofa Bed (Finish Co...</td>\n",
       "      <td>No rating available</td>\n",
       "      <td>No rating available</td>\n",
       "      <td>FabHomeDecor</td>\n",
       "      <td>{\"product_specification\"=&gt;[{\"key\"=&gt;\"Installati...</td>\n",
       "    </tr>\n",
       "    <tr>\n",
       "      <th>2</th>\n",
       "      <td>f449ec65dcbc041b6ae5e6a32717d01b</td>\n",
       "      <td>2016-03-25 22:59:23 +0000</td>\n",
       "      <td>http://www.flipkart.com/aw-bellies/p/itmeh4grg...</td>\n",
       "      <td>AW Bellies</td>\n",
       "      <td>[\"Footwear &gt;&gt; Women's Footwear &gt;&gt; Ballerinas &gt;...</td>\n",
       "      <td>SHOEH4GRSUBJGZXE</td>\n",
       "      <td>991</td>\n",
       "      <td>551</td>\n",
       "      <td>[\"http://img5a.flixcart.com/image/shoe/7/z/z/r...</td>\n",
       "      <td>False</td>\n",
       "      <td>Key Features of AW Bellies Sandals Wedges Heel...</td>\n",
       "      <td>No rating available</td>\n",
       "      <td>No rating available</td>\n",
       "      <td>AW</td>\n",
       "      <td>{\"product_specification\"=&gt;[{\"key\"=&gt;\"Ideal For\"...</td>\n",
       "    </tr>\n",
       "    <tr>\n",
       "      <th>3</th>\n",
       "      <td>0973b37acd0c664e3de26e97e5571454</td>\n",
       "      <td>2016-03-25 22:59:23 +0000</td>\n",
       "      <td>http://www.flipkart.com/alisha-solid-women-s-c...</td>\n",
       "      <td>Alisha Solid Women's Cycling Shorts</td>\n",
       "      <td>[\"Clothing &gt;&gt; Women's Clothing &gt;&gt; Lingerie, Sl...</td>\n",
       "      <td>SRTEH2F6HUZMQ6SJ</td>\n",
       "      <td>694</td>\n",
       "      <td>325</td>\n",
       "      <td>[\"http://img5a.flixcart.com/image/short/6/2/h/...</td>\n",
       "      <td>False</td>\n",
       "      <td>Key Features of Alisha Solid Women's Cycling S...</td>\n",
       "      <td>No rating available</td>\n",
       "      <td>No rating available</td>\n",
       "      <td>Alisha</td>\n",
       "      <td>{\"product_specification\"=&gt;[{\"key\"=&gt;\"Number of ...</td>\n",
       "    </tr>\n",
       "    <tr>\n",
       "      <th>4</th>\n",
       "      <td>bc940ea42ee6bef5ac7cea3fb5cfbee7</td>\n",
       "      <td>2016-03-25 22:59:23 +0000</td>\n",
       "      <td>http://www.flipkart.com/sicons-all-purpose-arn...</td>\n",
       "      <td>Sicons All Purpose Arnica Dog Shampoo</td>\n",
       "      <td>[\"Pet Supplies &gt;&gt; Grooming &gt;&gt; Skin &amp; Coat Care...</td>\n",
       "      <td>PSOEH3ZYDMSYARJ5</td>\n",
       "      <td>208</td>\n",
       "      <td>258</td>\n",
       "      <td>[\"http://img5a.flixcart.com/image/pet-shampoo/...</td>\n",
       "      <td>False</td>\n",
       "      <td>Specifications of Sicons All Purpose Arnica Do...</td>\n",
       "      <td>No rating available</td>\n",
       "      <td>No rating available</td>\n",
       "      <td>Sicons</td>\n",
       "      <td>{\"product_specification\"=&gt;[{\"key\"=&gt;\"Pet Type\",...</td>\n",
       "    </tr>\n",
       "  </tbody>\n",
       "</table>\n",
       "</div>"
      ],
      "text/plain": [
       "                            uniq_id            crawl_timestamp  \\\n",
       "0  c2d766ca982eca8304150849735ffef9  2016-03-25 22:59:23 +0000   \n",
       "1  7f7036a6d550aaa89d34c77bd39a5e48  2016-03-25 22:59:23 +0000   \n",
       "2  f449ec65dcbc041b6ae5e6a32717d01b  2016-03-25 22:59:23 +0000   \n",
       "3  0973b37acd0c664e3de26e97e5571454  2016-03-25 22:59:23 +0000   \n",
       "4  bc940ea42ee6bef5ac7cea3fb5cfbee7  2016-03-25 22:59:23 +0000   \n",
       "\n",
       "                                         product_url  \\\n",
       "0  http://www.flipkart.com/alisha-solid-women-s-c...   \n",
       "1  http://www.flipkart.com/fabhomedecor-fabric-do...   \n",
       "2  http://www.flipkart.com/aw-bellies/p/itmeh4grg...   \n",
       "3  http://www.flipkart.com/alisha-solid-women-s-c...   \n",
       "4  http://www.flipkart.com/sicons-all-purpose-arn...   \n",
       "\n",
       "                            product_name  \\\n",
       "0    Alisha Solid Women's Cycling Shorts   \n",
       "1    FabHomeDecor Fabric Double Sofa Bed   \n",
       "2                             AW Bellies   \n",
       "3    Alisha Solid Women's Cycling Shorts   \n",
       "4  Sicons All Purpose Arnica Dog Shampoo   \n",
       "\n",
       "                               product_category_tree               pid  \\\n",
       "0  [\"Clothing >> Women's Clothing >> Lingerie, Sl...  SRTEH2FF9KEDEFGF   \n",
       "1  [\"Furniture >> Living Room Furniture >> Sofa B...  SBEEH3QGU7MFYJFY   \n",
       "2  [\"Footwear >> Women's Footwear >> Ballerinas >...  SHOEH4GRSUBJGZXE   \n",
       "3  [\"Clothing >> Women's Clothing >> Lingerie, Sl...  SRTEH2F6HUZMQ6SJ   \n",
       "4  [\"Pet Supplies >> Grooming >> Skin & Coat Care...  PSOEH3ZYDMSYARJ5   \n",
       "\n",
       "   retail_price  discounted_price  \\\n",
       "0           982               438   \n",
       "1         32143             29121   \n",
       "2           991               551   \n",
       "3           694               325   \n",
       "4           208               258   \n",
       "\n",
       "                                               image  is_FK_Advantage_product  \\\n",
       "0  [\"http://img5a.flixcart.com/image/short/u/4/a/...                    False   \n",
       "1  [\"http://img6a.flixcart.com/image/sofa-bed/j/f...                    False   \n",
       "2  [\"http://img5a.flixcart.com/image/shoe/7/z/z/r...                    False   \n",
       "3  [\"http://img5a.flixcart.com/image/short/6/2/h/...                    False   \n",
       "4  [\"http://img5a.flixcart.com/image/pet-shampoo/...                    False   \n",
       "\n",
       "                                         description       product_rating  \\\n",
       "0  Key Features of Alisha Solid Women's Cycling S...  No rating available   \n",
       "1  FabHomeDecor Fabric Double Sofa Bed (Finish Co...  No rating available   \n",
       "2  Key Features of AW Bellies Sandals Wedges Heel...  No rating available   \n",
       "3  Key Features of Alisha Solid Women's Cycling S...  No rating available   \n",
       "4  Specifications of Sicons All Purpose Arnica Do...  No rating available   \n",
       "\n",
       "        overall_rating         brand  \\\n",
       "0  No rating available        Alisha   \n",
       "1  No rating available  FabHomeDecor   \n",
       "2  No rating available            AW   \n",
       "3  No rating available        Alisha   \n",
       "4  No rating available        Sicons   \n",
       "\n",
       "                              product_specifications  \n",
       "0  {\"product_specification\"=>[{\"key\"=>\"Number of ...  \n",
       "1  {\"product_specification\"=>[{\"key\"=>\"Installati...  \n",
       "2  {\"product_specification\"=>[{\"key\"=>\"Ideal For\"...  \n",
       "3  {\"product_specification\"=>[{\"key\"=>\"Number of ...  \n",
       "4  {\"product_specification\"=>[{\"key\"=>\"Pet Type\",...  "
      ]
     },
     "execution_count": 4,
     "metadata": {},
     "output_type": "execute_result"
    }
   ],
   "source": [
    "df_a.head()"
   ]
  },
  {
   "cell_type": "code",
   "execution_count": 5,
   "metadata": {},
   "outputs": [
    {
     "data": {
      "text/html": [
       "<div>\n",
       "<style scoped>\n",
       "    .dataframe tbody tr th:only-of-type {\n",
       "        vertical-align: middle;\n",
       "    }\n",
       "\n",
       "    .dataframe tbody tr th {\n",
       "        vertical-align: top;\n",
       "    }\n",
       "\n",
       "    .dataframe thead th {\n",
       "        text-align: right;\n",
       "    }\n",
       "</style>\n",
       "<table border=\"1\" class=\"dataframe\">\n",
       "  <thead>\n",
       "    <tr style=\"text-align: right;\">\n",
       "      <th></th>\n",
       "      <th>uniq_id</th>\n",
       "      <th>crawl_timestamp</th>\n",
       "      <th>product_url</th>\n",
       "      <th>product_name</th>\n",
       "      <th>product_category_tree</th>\n",
       "      <th>pid</th>\n",
       "      <th>retail_price</th>\n",
       "      <th>discounted_price</th>\n",
       "      <th>image</th>\n",
       "      <th>is_FK_Advantage_product</th>\n",
       "      <th>description</th>\n",
       "      <th>product_rating</th>\n",
       "      <th>overall_rating</th>\n",
       "      <th>brand</th>\n",
       "      <th>product_specifications</th>\n",
       "    </tr>\n",
       "  </thead>\n",
       "  <tbody>\n",
       "    <tr>\n",
       "      <th>0</th>\n",
       "      <td>c2d766ca982eca8304150849735ffef9</td>\n",
       "      <td>2016-03-25 22:59:23 +0000</td>\n",
       "      <td>http://www.flipkart.com/alisha-solid-women-s-c...</td>\n",
       "      <td>Alisha Solid Women's Cycling Shorts</td>\n",
       "      <td>[\"Clothing &gt;&gt; Women's Clothing &gt;&gt; Lingerie, Sl...</td>\n",
       "      <td>SRTEH2FF9KEDEFGF</td>\n",
       "      <td>999.0</td>\n",
       "      <td>379.0</td>\n",
       "      <td>[\"http://img5a.flixcart.com/image/short/u/4/a/...</td>\n",
       "      <td>False</td>\n",
       "      <td>Key Features of Alisha Solid Women's Cycling S...</td>\n",
       "      <td>No rating available</td>\n",
       "      <td>No rating available</td>\n",
       "      <td>Alisha</td>\n",
       "      <td>{\"product_specification\"=&gt;[{\"key\"=&gt;\"Number of ...</td>\n",
       "    </tr>\n",
       "    <tr>\n",
       "      <th>1</th>\n",
       "      <td>7f7036a6d550aaa89d34c77bd39a5e48</td>\n",
       "      <td>2016-03-25 22:59:23 +0000</td>\n",
       "      <td>http://www.flipkart.com/fabhomedecor-fabric-do...</td>\n",
       "      <td>FabHomeDecor Fabric Double Sofa Bed</td>\n",
       "      <td>[\"Furniture &gt;&gt; Living Room Furniture &gt;&gt; Sofa B...</td>\n",
       "      <td>SBEEH3QGU7MFYJFY</td>\n",
       "      <td>32157.0</td>\n",
       "      <td>22646.0</td>\n",
       "      <td>[\"http://img6a.flixcart.com/image/sofa-bed/j/f...</td>\n",
       "      <td>False</td>\n",
       "      <td>FabHomeDecor Fabric Double Sofa Bed (Finish Co...</td>\n",
       "      <td>No rating available</td>\n",
       "      <td>No rating available</td>\n",
       "      <td>FabHomeDecor</td>\n",
       "      <td>{\"product_specification\"=&gt;[{\"key\"=&gt;\"Installati...</td>\n",
       "    </tr>\n",
       "    <tr>\n",
       "      <th>2</th>\n",
       "      <td>f449ec65dcbc041b6ae5e6a32717d01b</td>\n",
       "      <td>2016-03-25 22:59:23 +0000</td>\n",
       "      <td>http://www.flipkart.com/aw-bellies/p/itmeh4grg...</td>\n",
       "      <td>AW Bellies</td>\n",
       "      <td>[\"Footwear &gt;&gt; Women's Footwear &gt;&gt; Ballerinas &gt;...</td>\n",
       "      <td>SHOEH4GRSUBJGZXE</td>\n",
       "      <td>999.0</td>\n",
       "      <td>499.0</td>\n",
       "      <td>[\"http://img5a.flixcart.com/image/shoe/7/z/z/r...</td>\n",
       "      <td>False</td>\n",
       "      <td>Key Features of AW Bellies Sandals Wedges Heel...</td>\n",
       "      <td>No rating available</td>\n",
       "      <td>No rating available</td>\n",
       "      <td>AW</td>\n",
       "      <td>{\"product_specification\"=&gt;[{\"key\"=&gt;\"Ideal For\"...</td>\n",
       "    </tr>\n",
       "    <tr>\n",
       "      <th>3</th>\n",
       "      <td>0973b37acd0c664e3de26e97e5571454</td>\n",
       "      <td>2016-03-25 22:59:23 +0000</td>\n",
       "      <td>http://www.flipkart.com/alisha-solid-women-s-c...</td>\n",
       "      <td>Alisha Solid Women's Cycling Shorts</td>\n",
       "      <td>[\"Clothing &gt;&gt; Women's Clothing &gt;&gt; Lingerie, Sl...</td>\n",
       "      <td>SRTEH2F6HUZMQ6SJ</td>\n",
       "      <td>699.0</td>\n",
       "      <td>267.0</td>\n",
       "      <td>[\"http://img5a.flixcart.com/image/short/6/2/h/...</td>\n",
       "      <td>False</td>\n",
       "      <td>Key Features of Alisha Solid Women's Cycling S...</td>\n",
       "      <td>No rating available</td>\n",
       "      <td>No rating available</td>\n",
       "      <td>Alisha</td>\n",
       "      <td>{\"product_specification\"=&gt;[{\"key\"=&gt;\"Number of ...</td>\n",
       "    </tr>\n",
       "    <tr>\n",
       "      <th>4</th>\n",
       "      <td>bc940ea42ee6bef5ac7cea3fb5cfbee7</td>\n",
       "      <td>2016-03-25 22:59:23 +0000</td>\n",
       "      <td>http://www.flipkart.com/sicons-all-purpose-arn...</td>\n",
       "      <td>Sicons All Purpose Arnica Dog Shampoo</td>\n",
       "      <td>[\"Pet Supplies &gt;&gt; Grooming &gt;&gt; Skin &amp; Coat Care...</td>\n",
       "      <td>PSOEH3ZYDMSYARJ5</td>\n",
       "      <td>220.0</td>\n",
       "      <td>210.0</td>\n",
       "      <td>[\"http://img5a.flixcart.com/image/pet-shampoo/...</td>\n",
       "      <td>False</td>\n",
       "      <td>Specifications of Sicons All Purpose Arnica Do...</td>\n",
       "      <td>No rating available</td>\n",
       "      <td>No rating available</td>\n",
       "      <td>Sicons</td>\n",
       "      <td>{\"product_specification\"=&gt;[{\"key\"=&gt;\"Pet Type\",...</td>\n",
       "    </tr>\n",
       "  </tbody>\n",
       "</table>\n",
       "</div>"
      ],
      "text/plain": [
       "                            uniq_id            crawl_timestamp  \\\n",
       "0  c2d766ca982eca8304150849735ffef9  2016-03-25 22:59:23 +0000   \n",
       "1  7f7036a6d550aaa89d34c77bd39a5e48  2016-03-25 22:59:23 +0000   \n",
       "2  f449ec65dcbc041b6ae5e6a32717d01b  2016-03-25 22:59:23 +0000   \n",
       "3  0973b37acd0c664e3de26e97e5571454  2016-03-25 22:59:23 +0000   \n",
       "4  bc940ea42ee6bef5ac7cea3fb5cfbee7  2016-03-25 22:59:23 +0000   \n",
       "\n",
       "                                         product_url  \\\n",
       "0  http://www.flipkart.com/alisha-solid-women-s-c...   \n",
       "1  http://www.flipkart.com/fabhomedecor-fabric-do...   \n",
       "2  http://www.flipkart.com/aw-bellies/p/itmeh4grg...   \n",
       "3  http://www.flipkart.com/alisha-solid-women-s-c...   \n",
       "4  http://www.flipkart.com/sicons-all-purpose-arn...   \n",
       "\n",
       "                            product_name  \\\n",
       "0    Alisha Solid Women's Cycling Shorts   \n",
       "1    FabHomeDecor Fabric Double Sofa Bed   \n",
       "2                             AW Bellies   \n",
       "3    Alisha Solid Women's Cycling Shorts   \n",
       "4  Sicons All Purpose Arnica Dog Shampoo   \n",
       "\n",
       "                               product_category_tree               pid  \\\n",
       "0  [\"Clothing >> Women's Clothing >> Lingerie, Sl...  SRTEH2FF9KEDEFGF   \n",
       "1  [\"Furniture >> Living Room Furniture >> Sofa B...  SBEEH3QGU7MFYJFY   \n",
       "2  [\"Footwear >> Women's Footwear >> Ballerinas >...  SHOEH4GRSUBJGZXE   \n",
       "3  [\"Clothing >> Women's Clothing >> Lingerie, Sl...  SRTEH2F6HUZMQ6SJ   \n",
       "4  [\"Pet Supplies >> Grooming >> Skin & Coat Care...  PSOEH3ZYDMSYARJ5   \n",
       "\n",
       "   retail_price  discounted_price  \\\n",
       "0         999.0             379.0   \n",
       "1       32157.0           22646.0   \n",
       "2         999.0             499.0   \n",
       "3         699.0             267.0   \n",
       "4         220.0             210.0   \n",
       "\n",
       "                                               image  is_FK_Advantage_product  \\\n",
       "0  [\"http://img5a.flixcart.com/image/short/u/4/a/...                    False   \n",
       "1  [\"http://img6a.flixcart.com/image/sofa-bed/j/f...                    False   \n",
       "2  [\"http://img5a.flixcart.com/image/shoe/7/z/z/r...                    False   \n",
       "3  [\"http://img5a.flixcart.com/image/short/6/2/h/...                    False   \n",
       "4  [\"http://img5a.flixcart.com/image/pet-shampoo/...                    False   \n",
       "\n",
       "                                         description       product_rating  \\\n",
       "0  Key Features of Alisha Solid Women's Cycling S...  No rating available   \n",
       "1  FabHomeDecor Fabric Double Sofa Bed (Finish Co...  No rating available   \n",
       "2  Key Features of AW Bellies Sandals Wedges Heel...  No rating available   \n",
       "3  Key Features of Alisha Solid Women's Cycling S...  No rating available   \n",
       "4  Specifications of Sicons All Purpose Arnica Do...  No rating available   \n",
       "\n",
       "        overall_rating         brand  \\\n",
       "0  No rating available        Alisha   \n",
       "1  No rating available  FabHomeDecor   \n",
       "2  No rating available            AW   \n",
       "3  No rating available        Alisha   \n",
       "4  No rating available        Sicons   \n",
       "\n",
       "                              product_specifications  \n",
       "0  {\"product_specification\"=>[{\"key\"=>\"Number of ...  \n",
       "1  {\"product_specification\"=>[{\"key\"=>\"Installati...  \n",
       "2  {\"product_specification\"=>[{\"key\"=>\"Ideal For\"...  \n",
       "3  {\"product_specification\"=>[{\"key\"=>\"Number of ...  \n",
       "4  {\"product_specification\"=>[{\"key\"=>\"Pet Type\",...  "
      ]
     },
     "execution_count": 5,
     "metadata": {},
     "output_type": "execute_result"
    }
   ],
   "source": [
    "df_f.head()"
   ]
  },
  {
   "cell_type": "code",
   "execution_count": 6,
   "metadata": {},
   "outputs": [
    {
     "name": "stdout",
     "output_type": "stream",
     "text": [
      "<class 'pandas.core.frame.DataFrame'>\n",
      "RangeIndex: 20000 entries, 0 to 19999\n",
      "Data columns (total 15 columns):\n",
      " #   Column                   Non-Null Count  Dtype \n",
      "---  ------                   --------------  ----- \n",
      " 0   uniq_id                  20000 non-null  object\n",
      " 1   crawl_timestamp          20000 non-null  object\n",
      " 2   product_url              20000 non-null  object\n",
      " 3   product_name             20000 non-null  object\n",
      " 4   product_category_tree    20000 non-null  object\n",
      " 5   pid                      20000 non-null  object\n",
      " 6   retail_price             20000 non-null  int64 \n",
      " 7   discounted_price         20000 non-null  int64 \n",
      " 8   image                    19997 non-null  object\n",
      " 9   is_FK_Advantage_product  20000 non-null  bool  \n",
      " 10  description              19998 non-null  object\n",
      " 11  product_rating           20000 non-null  object\n",
      " 12  overall_rating           20000 non-null  object\n",
      " 13  brand                    14136 non-null  object\n",
      " 14  product_specifications   19986 non-null  object\n",
      "dtypes: bool(1), int64(2), object(12)\n",
      "memory usage: 2.2+ MB\n"
     ]
    }
   ],
   "source": [
    "df_a.info()"
   ]
  },
  {
   "cell_type": "code",
   "execution_count": 7,
   "metadata": {},
   "outputs": [
    {
     "name": "stdout",
     "output_type": "stream",
     "text": [
      "<class 'pandas.core.frame.DataFrame'>\n",
      "RangeIndex: 20000 entries, 0 to 19999\n",
      "Data columns (total 15 columns):\n",
      " #   Column                   Non-Null Count  Dtype  \n",
      "---  ------                   --------------  -----  \n",
      " 0   uniq_id                  20000 non-null  object \n",
      " 1   crawl_timestamp          20000 non-null  object \n",
      " 2   product_url              20000 non-null  object \n",
      " 3   product_name             20000 non-null  object \n",
      " 4   product_category_tree    20000 non-null  object \n",
      " 5   pid                      20000 non-null  object \n",
      " 6   retail_price             19922 non-null  float64\n",
      " 7   discounted_price         19922 non-null  float64\n",
      " 8   image                    19997 non-null  object \n",
      " 9   is_FK_Advantage_product  20000 non-null  bool   \n",
      " 10  description              19998 non-null  object \n",
      " 11  product_rating           20000 non-null  object \n",
      " 12  overall_rating           20000 non-null  object \n",
      " 13  brand                    14136 non-null  object \n",
      " 14  product_specifications   19986 non-null  object \n",
      "dtypes: bool(1), float64(2), object(12)\n",
      "memory usage: 2.2+ MB\n"
     ]
    }
   ],
   "source": [
    "df_f.info()"
   ]
  },
  {
   "cell_type": "markdown",
   "metadata": {},
   "source": [
    "# Text pre-processing"
   ]
  },
  {
   "cell_type": "code",
   "execution_count": 8,
   "metadata": {},
   "outputs": [],
   "source": [
    "df_a.product_name = df_a.product_name.str.lower()"
   ]
  },
  {
   "cell_type": "code",
   "execution_count": 9,
   "metadata": {},
   "outputs": [
    {
     "data": {
      "text/plain": [
       "(20000, 15)"
      ]
     },
     "execution_count": 9,
     "metadata": {},
     "output_type": "execute_result"
    }
   ],
   "source": [
    "df_a.shape"
   ]
  },
  {
   "cell_type": "code",
   "execution_count": 10,
   "metadata": {},
   "outputs": [],
   "source": [
    "df_f.product_name = df_f.product_name.str.lower()"
   ]
  },
  {
   "cell_type": "code",
   "execution_count": 11,
   "metadata": {},
   "outputs": [
    {
     "data": {
      "text/plain": [
       "(20000, 15)"
      ]
     },
     "execution_count": 11,
     "metadata": {},
     "output_type": "execute_result"
    }
   ],
   "source": [
    "df_f.shape"
   ]
  },
  {
   "cell_type": "code",
   "execution_count": 12,
   "metadata": {},
   "outputs": [
    {
     "data": {
      "text/plain": [
       "'bornbabykids cotton bath towel'"
      ]
     },
     "execution_count": 12,
     "metadata": {},
     "output_type": "execute_result"
    }
   ],
   "source": [
    "# analysing product name randomly from the datset\n",
    "idx = np.random.randint(0, df_a.shape[0])\n",
    "df_a.loc[idx, 'product_name']"
   ]
  },
  {
   "cell_type": "code",
   "execution_count": 13,
   "metadata": {},
   "outputs": [
    {
     "data": {
      "text/plain": [
       "'krocs slippers'"
      ]
     },
     "execution_count": 13,
     "metadata": {},
     "output_type": "execute_result"
    }
   ],
   "source": [
    "# analysing product name randomly from the datset\n",
    "idx = np.random.randint(0, df_f.shape[0])\n",
    "df_f.loc[idx, 'product_name']"
   ]
  },
  {
   "cell_type": "code",
   "execution_count": 14,
   "metadata": {},
   "outputs": [],
   "source": [
    "# dropping duplicates records from the data\n",
    "df_a.drop_duplicates(subset='product_name', inplace=True)"
   ]
  },
  {
   "cell_type": "code",
   "execution_count": 15,
   "metadata": {},
   "outputs": [
    {
     "data": {
      "text/plain": [
       "(12628, 15)"
      ]
     },
     "execution_count": 15,
     "metadata": {},
     "output_type": "execute_result"
    }
   ],
   "source": [
    "df_a.shape"
   ]
  },
  {
   "cell_type": "code",
   "execution_count": 16,
   "metadata": {},
   "outputs": [],
   "source": [
    "# dropping duplicates records from the data\n",
    "df_f.drop_duplicates(subset='product_name', inplace=True)"
   ]
  },
  {
   "cell_type": "code",
   "execution_count": 17,
   "metadata": {},
   "outputs": [
    {
     "data": {
      "text/plain": [
       "(12623, 15)"
      ]
     },
     "execution_count": 17,
     "metadata": {},
     "output_type": "execute_result"
    }
   ],
   "source": [
    "df_f.shape"
   ]
  },
  {
   "cell_type": "code",
   "execution_count": 18,
   "metadata": {},
   "outputs": [],
   "source": [
    "# resetting index\n",
    "df_a.reset_index(drop=True, inplace=True)"
   ]
  },
  {
   "cell_type": "code",
   "execution_count": 19,
   "metadata": {},
   "outputs": [],
   "source": [
    "df_f.reset_index(drop=True, inplace=True)"
   ]
  },
  {
   "cell_type": "code",
   "execution_count": 20,
   "metadata": {},
   "outputs": [],
   "source": [
    "# function to preprocess text\n",
    "def preprocess(text):\n",
    "    stemmer = PorterStemmer()\n",
    "    text = ' '.join(stemmer.stem(word) for word in text.split())\n",
    "    text = re.sub(r'[^a-zA-Z]', ' ', text).lower()  # consider only alphabets\n",
    "    text = ' '.join(text.split()) # to remove spaces between the text\n",
    "    return text"
   ]
  },
  {
   "cell_type": "code",
   "execution_count": 21,
   "metadata": {},
   "outputs": [],
   "source": [
    "# preprocessing the product name\n",
    "df_a['product_name_processed'] = df_a.product_name.apply(preprocess)"
   ]
  },
  {
   "cell_type": "code",
   "execution_count": 22,
   "metadata": {},
   "outputs": [],
   "source": [
    "df_f['product_name_processed'] = df_f.product_name.apply(preprocess)"
   ]
  },
  {
   "cell_type": "markdown",
   "metadata": {},
   "source": [
    "# tf-idf and cosine similarity\n",
    "reference: <a href='https://towardsdatascience.com/calculating-document-similarities-using-bert-and-other-models-b2c1a29c9630'> To understand the working of code </a> "
   ]
  },
  {
   "cell_type": "code",
   "execution_count": 23,
   "metadata": {},
   "outputs": [
    {
     "data": {
      "text/plain": [
       "(12628, 16)"
      ]
     },
     "execution_count": 23,
     "metadata": {},
     "output_type": "execute_result"
    }
   ],
   "source": [
    "df_a.shape"
   ]
  },
  {
   "cell_type": "code",
   "execution_count": 24,
   "metadata": {},
   "outputs": [
    {
     "data": {
      "text/plain": [
       "(12623, 16)"
      ]
     },
     "execution_count": 24,
     "metadata": {},
     "output_type": "execute_result"
    }
   ],
   "source": [
    "df_f.shape"
   ]
  },
  {
   "cell_type": "code",
   "execution_count": 25,
   "metadata": {},
   "outputs": [],
   "source": [
    "# creating instace of TfidfVectorizer\n",
    "tfidfvectoriser_both = TfidfVectorizer()"
   ]
  },
  {
   "cell_type": "code",
   "execution_count": 26,
   "metadata": {},
   "outputs": [],
   "source": [
    "# merging both the datasets\n",
    "df_both = pd.concat([df_a, df_f], axis=0)"
   ]
  },
  {
   "cell_type": "code",
   "execution_count": 27,
   "metadata": {},
   "outputs": [
    {
     "data": {
      "text/plain": [
       "(25251, 16)"
      ]
     },
     "execution_count": 27,
     "metadata": {},
     "output_type": "execute_result"
    }
   ],
   "source": [
    "df_both.shape"
   ]
  },
  {
   "cell_type": "code",
   "execution_count": 28,
   "metadata": {},
   "outputs": [
    {
     "data": {
      "text/html": [
       "<style>#sk-container-id-1 {color: black;background-color: white;}#sk-container-id-1 pre{padding: 0;}#sk-container-id-1 div.sk-toggleable {background-color: white;}#sk-container-id-1 label.sk-toggleable__label {cursor: pointer;display: block;width: 100%;margin-bottom: 0;padding: 0.3em;box-sizing: border-box;text-align: center;}#sk-container-id-1 label.sk-toggleable__label-arrow:before {content: \"▸\";float: left;margin-right: 0.25em;color: #696969;}#sk-container-id-1 label.sk-toggleable__label-arrow:hover:before {color: black;}#sk-container-id-1 div.sk-estimator:hover label.sk-toggleable__label-arrow:before {color: black;}#sk-container-id-1 div.sk-toggleable__content {max-height: 0;max-width: 0;overflow: hidden;text-align: left;background-color: #f0f8ff;}#sk-container-id-1 div.sk-toggleable__content pre {margin: 0.2em;color: black;border-radius: 0.25em;background-color: #f0f8ff;}#sk-container-id-1 input.sk-toggleable__control:checked~div.sk-toggleable__content {max-height: 200px;max-width: 100%;overflow: auto;}#sk-container-id-1 input.sk-toggleable__control:checked~label.sk-toggleable__label-arrow:before {content: \"▾\";}#sk-container-id-1 div.sk-estimator input.sk-toggleable__control:checked~label.sk-toggleable__label {background-color: #d4ebff;}#sk-container-id-1 div.sk-label input.sk-toggleable__control:checked~label.sk-toggleable__label {background-color: #d4ebff;}#sk-container-id-1 input.sk-hidden--visually {border: 0;clip: rect(1px 1px 1px 1px);clip: rect(1px, 1px, 1px, 1px);height: 1px;margin: -1px;overflow: hidden;padding: 0;position: absolute;width: 1px;}#sk-container-id-1 div.sk-estimator {font-family: monospace;background-color: #f0f8ff;border: 1px dotted black;border-radius: 0.25em;box-sizing: border-box;margin-bottom: 0.5em;}#sk-container-id-1 div.sk-estimator:hover {background-color: #d4ebff;}#sk-container-id-1 div.sk-parallel-item::after {content: \"\";width: 100%;border-bottom: 1px solid gray;flex-grow: 1;}#sk-container-id-1 div.sk-label:hover label.sk-toggleable__label {background-color: #d4ebff;}#sk-container-id-1 div.sk-serial::before {content: \"\";position: absolute;border-left: 1px solid gray;box-sizing: border-box;top: 0;bottom: 0;left: 50%;z-index: 0;}#sk-container-id-1 div.sk-serial {display: flex;flex-direction: column;align-items: center;background-color: white;padding-right: 0.2em;padding-left: 0.2em;position: relative;}#sk-container-id-1 div.sk-item {position: relative;z-index: 1;}#sk-container-id-1 div.sk-parallel {display: flex;align-items: stretch;justify-content: center;background-color: white;position: relative;}#sk-container-id-1 div.sk-item::before, #sk-container-id-1 div.sk-parallel-item::before {content: \"\";position: absolute;border-left: 1px solid gray;box-sizing: border-box;top: 0;bottom: 0;left: 50%;z-index: -1;}#sk-container-id-1 div.sk-parallel-item {display: flex;flex-direction: column;z-index: 1;position: relative;background-color: white;}#sk-container-id-1 div.sk-parallel-item:first-child::after {align-self: flex-end;width: 50%;}#sk-container-id-1 div.sk-parallel-item:last-child::after {align-self: flex-start;width: 50%;}#sk-container-id-1 div.sk-parallel-item:only-child::after {width: 0;}#sk-container-id-1 div.sk-dashed-wrapped {border: 1px dashed gray;margin: 0 0.4em 0.5em 0.4em;box-sizing: border-box;padding-bottom: 0.4em;background-color: white;}#sk-container-id-1 div.sk-label label {font-family: monospace;font-weight: bold;display: inline-block;line-height: 1.2em;}#sk-container-id-1 div.sk-label-container {text-align: center;}#sk-container-id-1 div.sk-container {/* jupyter's `normalize.less` sets `[hidden] { display: none; }` but bootstrap.min.css set `[hidden] { display: none !important; }` so we also need the `!important` here to be able to override the default hidden behavior on the sphinx rendered scikit-learn.org. See: https://github.com/scikit-learn/scikit-learn/issues/21755 */display: inline-block !important;position: relative;}#sk-container-id-1 div.sk-text-repr-fallback {display: none;}</style><div id=\"sk-container-id-1\" class=\"sk-top-container\"><div class=\"sk-text-repr-fallback\"><pre>TfidfVectorizer()</pre><b>In a Jupyter environment, please rerun this cell to show the HTML representation or trust the notebook. <br />On GitHub, the HTML representation is unable to render, please try loading this page with nbviewer.org.</b></div><div class=\"sk-container\" hidden><div class=\"sk-item\"><div class=\"sk-estimator sk-toggleable\"><input class=\"sk-toggleable__control sk-hidden--visually\" id=\"sk-estimator-id-1\" type=\"checkbox\" checked><label for=\"sk-estimator-id-1\" class=\"sk-toggleable__label sk-toggleable__label-arrow\">TfidfVectorizer</label><div class=\"sk-toggleable__content\"><pre>TfidfVectorizer()</pre></div></div></div></div></div>"
      ],
      "text/plain": [
       "TfidfVectorizer()"
      ]
     },
     "execution_count": 28,
     "metadata": {},
     "output_type": "execute_result"
    }
   ],
   "source": [
    "# fitting the vectorizer on the entire corpus\n",
    "tfidfvectoriser_both.fit(df_both.product_name_processed)"
   ]
  },
  {
   "cell_type": "code",
   "execution_count": 29,
   "metadata": {},
   "outputs": [],
   "source": [
    "# creating vector representation of amazon dataset\n",
    "tfidf_a = tfidfvectoriser_both.transform(df_a.product_name_processed)"
   ]
  },
  {
   "cell_type": "code",
   "execution_count": 30,
   "metadata": {},
   "outputs": [
    {
     "data": {
      "text/plain": [
       "(12628, 9141)"
      ]
     },
     "execution_count": 30,
     "metadata": {},
     "output_type": "execute_result"
    }
   ],
   "source": [
    "tfidf_a.shape # (no. of records, embedding for each sentence)"
   ]
  },
  {
   "cell_type": "code",
   "execution_count": 31,
   "metadata": {},
   "outputs": [],
   "source": [
    "# creating vector representation of amazon dataset\n",
    "tfidf_f = tfidfvectoriser_both.transform(df_f.product_name_processed)"
   ]
  },
  {
   "cell_type": "code",
   "execution_count": 32,
   "metadata": {},
   "outputs": [
    {
     "data": {
      "text/plain": [
       "(12623, 9141)"
      ]
     },
     "execution_count": 32,
     "metadata": {},
     "output_type": "execute_result"
    }
   ],
   "source": [
    "tfidf_f.shape"
   ]
  },
  {
   "cell_type": "code",
   "execution_count": 33,
   "metadata": {},
   "outputs": [],
   "source": [
    "# calculating pairwise similarity for each flipkart product with respect to every amazon product\n",
    "ps_fa = np.dot(tfidf_f, tfidf_a.T).toarray()"
   ]
  },
  {
   "cell_type": "code",
   "execution_count": 34,
   "metadata": {},
   "outputs": [],
   "source": [
    "# calculating pairwise similarity for each amazon product with respect to every flipkart product\n",
    "ps_af = np.dot(tfidf_a, tfidf_f.T).toarray()"
   ]
  },
  {
   "cell_type": "code",
   "execution_count": 35,
   "metadata": {},
   "outputs": [
    {
     "data": {
      "text/plain": [
       "(12623, 12628)"
      ]
     },
     "execution_count": 35,
     "metadata": {},
     "output_type": "execute_result"
    }
   ],
   "source": [
    "ps_fa.shape"
   ]
  },
  {
   "cell_type": "code",
   "execution_count": 36,
   "metadata": {},
   "outputs": [
    {
     "data": {
      "text/plain": [
       "(12628, 12623)"
      ]
     },
     "execution_count": 36,
     "metadata": {},
     "output_type": "execute_result"
    }
   ],
   "source": [
    "ps_af.shape"
   ]
  },
  {
   "cell_type": "code",
   "execution_count": 37,
   "metadata": {},
   "outputs": [
    {
     "data": {
      "text/plain": [
       "'sicon all purpos tea tree dog shampoo'"
      ]
     },
     "execution_count": 37,
     "metadata": {},
     "output_type": "execute_result"
    }
   ],
   "source": [
    "# pick random product from amazon dataset\n",
    "df_a.loc[8, 'product_name_processed']"
   ]
  },
  {
   "cell_type": "code",
   "execution_count": 38,
   "metadata": {},
   "outputs": [
    {
     "data": {
      "text/plain": [
       "array([   8,    3,   11, ..., 8393, 8392,    0])"
      ]
     },
     "execution_count": 38,
     "metadata": {},
     "output_type": "execute_result"
    }
   ],
   "source": [
    "# provide index of your selected product\n",
    "np.argsort(ps_af[8])[::-1] # always exclude very first index (similarity with respect to itself)"
   ]
  },
  {
   "cell_type": "code",
   "execution_count": 39,
   "metadata": {},
   "outputs": [
    {
     "data": {
      "text/plain": [
       "'sicon all purpos arnica dog shampoo'"
      ]
     },
     "execution_count": 39,
     "metadata": {},
     "output_type": "execute_result"
    }
   ],
   "source": [
    "# considering second element from above result to find similar product in the flipkart dataset\n",
    "df_f.loc[3, 'product_name_processed']"
   ]
  },
  {
   "cell_type": "markdown",
   "metadata": {},
   "source": [
    "# Finding similar product based on input"
   ]
  },
  {
   "cell_type": "markdown",
   "metadata": {},
   "source": [
    "#### find in amazon dataset"
   ]
  },
  {
   "cell_type": "code",
   "execution_count": 40,
   "metadata": {},
   "outputs": [
    {
     "name": "stdout",
     "output_type": "stream",
     "text": [
      "vitamins solid baby girl's basic shorts\n"
     ]
    }
   ],
   "source": [
    "# take product name from flipkart dataset\n",
    "inp = df_f.loc[899, 'product_name'] # try replacing 899 with other index\n",
    "print(inp)"
   ]
  },
  {
   "cell_type": "code",
   "execution_count": 41,
   "metadata": {},
   "outputs": [
    {
     "name": "stdout",
     "output_type": "stream",
     "text": [
      "vitamin solid babi girl basic short\n"
     ]
    }
   ],
   "source": [
    "# preprocess the input\n",
    "inp_f = preprocess(inp)\n",
    "print(inp_f)"
   ]
  },
  {
   "cell_type": "code",
   "execution_count": 42,
   "metadata": {},
   "outputs": [],
   "source": [
    "# convert the text into vector embedding\n",
    "embed = tfidfvectoriser_both.transform([inp_f])"
   ]
  },
  {
   "cell_type": "code",
   "execution_count": 43,
   "metadata": {},
   "outputs": [
    {
     "data": {
      "text/plain": [
       "(1, 9141)"
      ]
     },
     "execution_count": 43,
     "metadata": {},
     "output_type": "execute_result"
    }
   ],
   "source": [
    "# 1 sentence has vector embedding of size 9141\n",
    "embed.shape "
   ]
  },
  {
   "cell_type": "code",
   "execution_count": 44,
   "metadata": {},
   "outputs": [],
   "source": [
    "# find the cosine similarity of our input sent with all sentence embedd of amazon\n",
    "res = np.dot(embed, tfidf_a.T) "
   ]
  },
  {
   "cell_type": "markdown",
   "metadata": {},
   "source": [
    "**Note:** `For finding similar product in flipkart : np.dot(embed, tfidf_f.T)`"
   ]
  },
  {
   "cell_type": "code",
   "execution_count": 45,
   "metadata": {},
   "outputs": [],
   "source": [
    "# select the index which has highest similarity\n",
    "idx = np.argmax(res) "
   ]
  },
  {
   "cell_type": "code",
   "execution_count": 46,
   "metadata": {},
   "outputs": [
    {
     "data": {
      "text/plain": [
       "\"vitamins solid baby girl's basic shorts\""
      ]
     },
     "execution_count": 46,
     "metadata": {},
     "output_type": "execute_result"
    }
   ],
   "source": [
    "# display the most similar product from amazon dataset\n",
    "df_a.loc[idx, 'product_name']"
   ]
  },
  {
   "cell_type": "markdown",
   "metadata": {},
   "source": [
    "# Saving the tokenzier and data embeddings"
   ]
  },
  {
   "cell_type": "code",
   "execution_count": 48,
   "metadata": {},
   "outputs": [],
   "source": [
    "file_a = 'amazon_data_embeddings.pkl'\n",
    "file_f = 'flipkart_data_embeddings.pkl'\n",
    "file_vec = 'input_vectorizer.pkl'"
   ]
  },
  {
   "cell_type": "code",
   "execution_count": 49,
   "metadata": {},
   "outputs": [],
   "source": [
    "# saving amazon_data_embeddings\n",
    "with open(file_a, 'wb') as f:\n",
    "    pickle.dump(tfidf_a, f)"
   ]
  },
  {
   "cell_type": "code",
   "execution_count": 50,
   "metadata": {},
   "outputs": [],
   "source": [
    "# saving amazon_data_embeddings\n",
    "with open(file_f, 'wb') as f:\n",
    "    pickle.dump(tfidf_f, f)"
   ]
  },
  {
   "cell_type": "code",
   "execution_count": 51,
   "metadata": {},
   "outputs": [],
   "source": [
    "# saving amazon_data_embeddings\n",
    "with open(file_vec, 'wb') as f:\n",
    "    pickle.dump(tfidfvectoriser_both, f)"
   ]
  }
 ],
 "metadata": {
  "kernelspec": {
   "display_name": "Python 3 (ipykernel)",
   "language": "python",
   "name": "python3"
  },
  "language_info": {
   "codemirror_mode": {
    "name": "ipython",
    "version": 3
   },
   "file_extension": ".py",
   "mimetype": "text/x-python",
   "name": "python",
   "nbconvert_exporter": "python",
   "pygments_lexer": "ipython3",
   "version": "3.9.13"
  }
 },
 "nbformat": 4,
 "nbformat_minor": 4
}
